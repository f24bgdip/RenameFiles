{
 "cells": [
  {
   "cell_type": "markdown",
   "metadata": {},
   "source": [
    "# Exercise - Filter files\n",
    "How can I get files that I want to rename to?\n",
    "Let's try regular expression pattern.\n",
    "## References\n",
    "https://docs.python.org/3/library/re.html </p><p>\n",
    "count</p><p>\n",
    "The optional argument count is the maximum number of pattern occurrences to be replaced; count must be a non-negative integer. If omitted or zero, all occurrences will be replaced. </p><p>\n",
    "flags</p><p>\n",
    "re.A (ASCII-only matching), re.I (ignore case), re.L (locale dependent), re.M (multi-line), re.S (dot matches all), re.U (Unicode matching), and re.X (verbose)"
   ]
  },
  {
   "cell_type": "code",
   "execution_count": null,
   "metadata": {},
   "outputs": [],
   "source": [
    "# Pattern history\n",
    "\n",
    "path = \"D:\\\\Projects\\\\Excel VBA\"\n",
    "\n",
    "# regular expression pattern for unicode\n",
    "uni_rep_str = u'【(.+)】(.+).bas'\n",
    "regular_expression_pattern = uni_rep_str\n",
    "\n",
    "# replacement_pattern = '\\1_\\2.png' NG\n",
    "# replacement_pattern = 'Larisa_Alexandrite_ver\\g<1>.\\g<2>\\g<3>.0.vroid'\n",
    "replacement_pattern = '\\g<1>__\\g<2>.vbs'\n",
    "\n",
    "# test_str\n",
    "test_str = u'【参考】コーディング規約.bas'\n",
    "\n",
    "\n",
    "# Options\n",
    "count = 0\n",
    "flags = 0"
   ]
  },
  {
   "cell_type": "code",
   "execution_count": null,
   "metadata": {},
   "outputs": [],
   "source": [
    "import re\n",
    "\n",
    "pattern = re.compile(regular_expression_pattern, flags)"
   ]
  },
  {
   "cell_type": "markdown",
   "metadata": {},
   "source": [
    "## Generate a new name\n",
    "How can I generage a new file name?"
   ]
  },
  {
   "cell_type": "code",
   "execution_count": null,
   "metadata": {},
   "outputs": [],
   "source": [
    "# By using regexp method\n",
    "replaced_filename1 = re.sub(regular_expression_pattern, replacement_pattern, test_str, count, flags)\n",
    "print(replaced_filename1)\n",
    "\n",
    "print('-'*20)\n",
    "\n",
    "# By using compiled regexp object\n",
    "replaced_filename2 = pattern.sub(replacement_pattern, test_str, count)\n",
    "print(replaced_filename2)"
   ]
  },
  {
   "cell_type": "markdown",
   "metadata": {},
   "source": [
    "## Get a file list by filtering \n",
    "\n",
    "## Reference\n",
    "https://docs.python.org/3/library/re.html\n",
    "<p>The optional argument count is the maximum number of pattern occurrences to be replaced; count must be a non-negative integer.</p>"
   ]
  },
  {
   "cell_type": "code",
   "execution_count": null,
   "metadata": {},
   "outputs": [],
   "source": [
    "import os\n",
    "\n",
    "match_file_list = []\n",
    "with os.scandir(path) as it:\n",
    "    for entry in it:\n",
    "        if not entry.name.startswith('.') and entry.is_file() and pattern.match(entry.name):\n",
    "            match_file_list.append(entry.name)"
   ]
  },
  {
   "cell_type": "markdown",
   "metadata": {},
   "source": [
    "## Get a new name in each files\n",
    "OK! Let's combine the above methods.\n",
    "## Reference\n",
    "https://docs.python.org/3/library/re.html\n",
    "<p>The optional argument count is the maximum number of pattern occurrences to be replaced; count must be a non-negative integer.</p>"
   ]
  },
  {
   "cell_type": "code",
   "execution_count": null,
   "metadata": {},
   "outputs": [],
   "source": [
    "# New name\n",
    "renamed_file_list = []\n",
    "for target_file_name in match_file_list:\n",
    "    new_name = pattern.sub(replacement_pattern, target_file_name)\n",
    "    if new_name:\n",
    "        renamed_file_list.append(new_name)\n",
    "\n",
    "print(renamed_file_list)"
   ]
  }
 ],
 "metadata": {
  "file_extension": ".py",
  "kernelspec": {
   "display_name": "Python 3",
   "language": "python",
   "name": "python3"
  },
  "language_info": {
   "codemirror_mode": {
    "name": "ipython",
    "version": 3
   },
   "file_extension": ".py",
   "mimetype": "text/x-python",
   "name": "python",
   "nbconvert_exporter": "python",
   "pygments_lexer": "ipython3",
   "version": "3.7.3"
  },
  "mimetype": "text/x-python",
  "name": "python",
  "npconvert_exporter": "python",
  "pygments_lexer": "ipython3",
  "version": 3
 },
 "nbformat": 4,
 "nbformat_minor": 2
}
