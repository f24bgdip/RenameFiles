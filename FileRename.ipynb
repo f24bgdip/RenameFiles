{
 "cells": [
  {
   "cell_type": "markdown",
   "execution_count": null,
   "metadata": {},
   "outputs": [],
   "source": [
    "# Directory change"
   ]
  },
  {
   "cell_type": "code",
   "execution_count": null,
   "metadata": {},
   "outputs": [],
   "source": [
    "import os\n",
    "\n",
    "path = \"D:\\\\Projects\\\\Excel VBA\"\n",
    "os.chdir(path)"
   ]
  },
  {
   "cell_type": "markdown",
   "execution_count": null,
   "metadata": {},
   "outputs": [],
   "source": [
    "# Variable settings"
   ]
  },
  {
   "cell_type": "code",
   "execution_count": null,
   "metadata": {},
   "outputs": [],
   "source": [
    "import re\n",
    "\n",
    "count = 0\n",
    "matching_flags = 0\n",
    "\n",
    "# Pattern history\n",
    "# Regular expression pattern for Unicode string\n",
    "uni_rep_str = u'【(.+)】(.+).bas'\n",
    "\n",
    "# regular_expression_pattern = 'Ver.(\\d).(\\d)(\\d).0.xlsx'\n",
    "regular_expression_pattern = uni_rep_str\n",
    "\n",
    "# replacement_pattern = '\\1_\\2.png' NG\n",
    "# replacement_pattern = 'Ver.\\g<1>.\\g<2>\\g<3>.0.xlsx'\n",
    "replacement_pattern = '\\g<1>__\\g<2>.vbs'\n",
    "\n",
    "# test_str\n",
    "# test_str = 'Ver.1.23.0.xlsx'\n",
    "test_str = u'【参考】コーディング規約.bas'\n",
    "\n",
    "pattern = re.compile(regular_expression_pattern, matching_flags)"
   ]
  },
  {
   "cell_type": "markdown",
   "execution_count": null,
   "metadata": {},
   "outputs": [],
   "source": [
    "# File collecting and new name creation\n",
    "Create lists for reverting if result is not as expected."
   ]
  },
  {
   "cell_type": "code",
   "execution_count": null,
   "metadata": {},
   "outputs": [],
   "source": [
    "match_file_list = []\n",
    "renamed_file_list = []\n",
    "\n",
    "with os.scandir(path) as it:\n",
    "    for entry in it:\n",
    "        if not entry.name.startswith('.') and entry.is_file() and pattern.match(entry.name):\n",
    "            match_file_list.append(entry.name)\n",
    "            new_name = pattern.sub(replacement_pattern, target_file_name, count)\n",
    "            if new_name:\n",
    "                renamed_file_list.append(new_name)"
   ]
  },
  {
   "cell_type": "markdown",
   "execution_count": null,
   "metadata": {},
   "outputs": [],
   "source": [
    "# File renaming"
   ]
  },
  {
   "cell_type": "code",
   "execution_count": 27,
   "metadata": {},
   "outputs": [],
   "source": [
    "old_new_file_names = zip(match_file_list, renamed_file_list)\n",
    "\n",
    "for names in old_new_file_names:\n",
    "    #print(names[0])\n",
    "    #print(names[1])\n",
    "    os.rename(names[0], names[1])"
   ]
  }
 ],
 "metadata": {
  "kernelspec": {
   "display_name": "Python 3",
   "language": "python",
   "name": "python3"
  },
  "language_info": {
   "codemirror_mode": {
    "name": "ipython",
    "version": 3
   },
   "file_extension": ".py",
   "mimetype": "text/x-python",
   "name": "python",
   "nbconvert_exporter": "python",
   "pygments_lexer": "ipython3",
   "version": "3.7.3"
  }
 },
 "nbformat": 4,
 "nbformat_minor": 2
}