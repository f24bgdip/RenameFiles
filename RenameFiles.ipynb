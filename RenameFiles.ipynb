{
 "cells": [
  {
   "cell_type": "markdown",
   "metadata": {},
   "source": [
    "# Variables settings\n",
    "Please adjust the variable values according to your environment and purpose."
   ]
  },
  {
   "cell_type": "code",
   "execution_count": null,
   "metadata": {},
   "outputs": [],
   "source": [
    "path = \"D:\\\\Projects\\\\Excel VBA\"\n",
    "\n",
    "# Pattern history\n",
    "# Regular expression pattern for Unicode string\n",
    "uni_rep_str = u'【(.+)】(.+).bas'\n",
    "\n",
    "# regular_expression_pattern = 'Ver.(\\d).(\\d)(\\d).0.xlsx'\n",
    "regular_expression_pattern = uni_rep_str\n",
    "\n",
    "# replacement_pattern = '\\1_\\2.png' NG\n",
    "# replacement_pattern = 'Ver.\\g<1>.\\g<2>\\g<3>.0.xlsx'\n",
    "replacement_pattern = '\\g<1>__\\g<2>.vbs'\n",
    "\n",
    "# test_str\n",
    "# test_str = 'Ver.1.23.0.xlsx'\n",
    "test_str = u'【参考】コーディング規約.bas'\n",
    "\n",
    "\n",
    "# Options of regular\n",
    "count = 0\n",
    "matching_flags = 0"
   ]
  },
  {
   "cell_type": "markdown",
   "metadata": {},
   "source": [
    "# Change directory"
   ]
  },
  {
   "cell_type": "code",
   "execution_count": null,
   "metadata": {},
   "outputs": [],
   "source": [
    "import os\n",
    "\n",
    "os.chdir(path)"
   ]
  },
  {
   "cell_type": "markdown",
   "metadata": {},
   "source": [
    "# Collect files and create new names\n",
    "Create lists for reverting if result is not as expected."
   ]
  },
  {
   "cell_type": "code",
   "execution_count": null,
   "metadata": {},
   "outputs": [],
   "source": [
    "import re\n",
    "\n",
    "pattern = re.compile(regular_expression_pattern, matching_flags)\n",
    "\n",
    "match_file_list = []\n",
    "renamed_file_list = []\n",
    "\n",
    "with os.scandir(path) as it:\n",
    "    for entry in it:\n",
    "        if not entry.name.startswith('.') and entry.is_file() and pattern.match(entry.name):\n",
    "            match_file_list.append(entry.name)\n",
    "            new_name = pattern.sub(replacement_pattern, target_file_name, count)\n",
    "            if new_name:\n",
    "                renamed_file_list.append(new_name)\n",
    "\n",
    "print(match_file_list)\n",
    "print(renamed_file_list)"
   ]
  },
  {
   "cell_type": "markdown",
   "metadata": {},
   "source": [
    "# Rename file"
   ]
  },
  {
   "cell_type": "code",
   "execution_count": 27,
   "metadata": {},
   "outputs": [],
   "source": [
    "old_new_file_names = zip(match_file_list, renamed_file_list)\n",
    "\n",
    "for names in old_new_file_names:\n",
    "    os.rename(names[0], names[1])"
   ]
  },
  {
   "cell_type": "markdown",
   "metadata": {},
   "source": [
    "# Restore file name\n",
    "If there is an unexpected file name, you can change the file name to the original file name."
   ]
  },
  {
   "cell_type": "code",
   "execution_count": null,
   "metadata": {},
   "outputs": [],
   "source": [
    "for names in old_new_file_names:\n",
    "    os.rename(names[1], names[0])"
   ]
  }
 ],
 "metadata": {
  "kernelspec": {
   "display_name": "Python 3",
   "language": "python",
   "name": "python3"
  },
  "language_info": {
   "codemirror_mode": {
    "name": "ipython",
    "version": 3
   },
   "file_extension": ".py",
   "mimetype": "text/x-python",
   "name": "python",
   "nbconvert_exporter": "python",
   "pygments_lexer": "ipython3",
   "version": "3.7.3"
  }
 },
 "nbformat": 4,
 "nbformat_minor": 2
}
